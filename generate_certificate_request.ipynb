{
 "cells": [
  {
   "cell_type": "code",
   "execution_count": 1,
   "metadata": {},
   "outputs": [
    {
     "name": "stdout",
     "output_type": "stream",
     "text": [
      "Creating private key...\n",
      "Creating CSR...\n"
     ]
    }
   ],
   "source": [
    "from generate_mtls_certificate_request import CertificadoGenerator\n",
    "\n",
    "company_name = 'YOUR_COMPANY_NAME_HERE'\n",
    "country = '' # COUNTRY CODE 2 DIGITS (BR, US, CN, RU, AR, ETC) UPPERCASE\n",
    "state_name = '' # STATE CODE 2 DIGITIS (BR, US, CN, RU, AR, ETC) UPPERCASE\n",
    "shipay_enviroment = 'ENVIROMENT' ## ENVIROMENT (staging, production) lowercase \n",
    "customer_email = 'YOUR_EMAIL_HERE' ## Your Email\n",
    "uf = '' # CITY CODE 2 DIGITIS (BR, US, CN, RU, AR, ETC) UPPERCASE\n",
    "\n",
    "CertificadoGenerator().run(\n",
    "        company_name, country, state_name, shipay_enviroment, customer_email, uf\n",
    ")\n"
   ]
  }
 ],
 "metadata": {
  "kernelspec": {
   "display_name": "Python 3",
   "language": "python",
   "name": "python3"
  },
  "language_info": {
   "codemirror_mode": {
    "name": "ipython",
    "version": 3
   },
   "file_extension": ".py",
   "mimetype": "text/x-python",
   "name": "python",
   "nbconvert_exporter": "python",
   "pygments_lexer": "ipython3",
   "version": "3.11.8"
  }
 },
 "nbformat": 4,
 "nbformat_minor": 2
}
